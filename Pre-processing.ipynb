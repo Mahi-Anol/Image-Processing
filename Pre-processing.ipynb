{
 "cells": [
  {
   "cell_type": "code",
   "execution_count": null,
   "metadata": {},
   "outputs": [],
   "source": [
    "# importing the zipfile module\n",
    "from zipfile import ZipFile\n",
    "\n",
    "# loading the temp.zip and creating a zip object\n",
    "with ZipFile(\"C:\\\\Users\\\\sai mohan pulamolu\\\\\\\n",
    "\t\t\tDesktop\\\\geeks_dir\\\\temp\\\\temp.zip\", 'r') as zObject:\n",
    "\n",
    "\t# Extracting all the members of the zip\n",
    "\t# into a specific location.\n",
    "\tzObject.extractall(\n",
    "\t\tpath=\"C:\\\\Users\\\\sai mohan pulamolu\\\\Desktop\\\\geeks_dir\\\\temp\")\n"
   ]
  },
  {
   "cell_type": "code",
   "execution_count": 1,
   "metadata": {},
   "outputs": [
    {
     "ename": "FileExistsError",
     "evalue": "[WinError 183] Cannot create a file when that file already exists: 'Banana-immature-10.jpg' -> 'Banana-immature-2.jpg'",
     "output_type": "error",
     "traceback": [
      "\u001b[1;31m---------------------------------------------------------------------------\u001b[0m",
      "\u001b[1;31mFileExistsError\u001b[0m                           Traceback (most recent call last)",
      "\u001b[1;32md:\\Deep_Learning\\Vegetable_Maturity_Detection\\Pre-processing.ipynb Cell 1\u001b[0m line \u001b[0;36m1\n\u001b[0;32m      <a href='vscode-notebook-cell:/d%3A/Deep_Learning/Vegetable_Maturity_Detection/Pre-processing.ipynb#W0sZmlsZQ%3D%3D?line=8'>9</a>\u001b[0m src\u001b[39m=\u001b[39mfile\n\u001b[0;32m     <a href='vscode-notebook-cell:/d%3A/Deep_Learning/Vegetable_Maturity_Detection/Pre-processing.ipynb#W0sZmlsZQ%3D%3D?line=9'>10</a>\u001b[0m dst\u001b[39m=\u001b[39m\u001b[39mstr\u001b[39m(folder)\u001b[39m+\u001b[39m\u001b[39m'\u001b[39m\u001b[39m-\u001b[39m\u001b[39m'\u001b[39m\u001b[39m+\u001b[39m\u001b[39mstr\u001b[39m(i)\u001b[39m+\u001b[39m\u001b[39m\"\u001b[39m\u001b[39m.jpg\u001b[39m\u001b[39m\"\u001b[39m\n\u001b[1;32m---> <a href='vscode-notebook-cell:/d%3A/Deep_Learning/Vegetable_Maturity_Detection/Pre-processing.ipynb#W0sZmlsZQ%3D%3D?line=10'>11</a>\u001b[0m os\u001b[39m.\u001b[39;49mrename(src,dst)\n\u001b[0;32m     <a href='vscode-notebook-cell:/d%3A/Deep_Learning/Vegetable_Maturity_Detection/Pre-processing.ipynb#W0sZmlsZQ%3D%3D?line=11'>12</a>\u001b[0m i\u001b[39m+\u001b[39m\u001b[39m=\u001b[39m\u001b[39m1\u001b[39m\n",
      "\u001b[1;31mFileExistsError\u001b[0m: [WinError 183] Cannot create a file when that file already exists: 'Banana-immature-10.jpg' -> 'Banana-immature-2.jpg'"
     ]
    }
   ],
   "source": [
    "import os\n",
    "os.chdir('D:\\Deep_Learning\\Vegetable_Maturity_Detection\\Dataset')    #for renaming files\n",
    "x=os.listdir()\n",
    "for folder in x:\n",
    "    i=1\n",
    "    os.chdir(f'D:\\Deep_Learning\\Vegetable_Maturity_Detection\\Dataset\\{folder}')\n",
    "    files=os.listdir()\n",
    "    for file in files:\n",
    "        src=file\n",
    "        dst=str(folder)+'-'+str(i)+\".jpg\"\n",
    "        os.rename(src,dst)\n",
    "        i+=1"
   ]
  },
  {
   "cell_type": "code",
   "execution_count": 71,
   "metadata": {},
   "outputs": [
    {
     "ename": "error",
     "evalue": "OpenCV(4.8.0) D:\\a\\opencv-python\\opencv-python\\opencv\\modules\\imgcodecs\\src\\loadsave.cpp:696: error: (-2:Unspecified error) could not find a writer for the specified extension in function 'cv::imwrite_'\n",
     "output_type": "error",
     "traceback": [
      "\u001b[1;31m---------------------------------------------------------------------------\u001b[0m",
      "\u001b[1;31merror\u001b[0m                                     Traceback (most recent call last)",
      "Cell \u001b[1;32mIn[71], line 30\u001b[0m\n\u001b[0;32m     27\u001b[0m             resized_image \u001b[39m=\u001b[39m cv2\u001b[39m.\u001b[39mresize(input_image, (target_width, target_height))\n\u001b[0;32m     29\u001b[0m             \u001b[39m# Save the resized image\u001b[39;00m\n\u001b[1;32m---> 30\u001b[0m             cv2\u001b[39m.\u001b[39;49mimwrite(opath, resized_image)\n\u001b[0;32m     32\u001b[0m \u001b[39mprint\u001b[39m(\u001b[39m\"\u001b[39m\u001b[39mAll images resized and saved.\u001b[39m\u001b[39m\"\u001b[39m)\n",
      "\u001b[1;31merror\u001b[0m: OpenCV(4.8.0) D:\\a\\opencv-python\\opencv-python\\opencv\\modules\\imgcodecs\\src\\loadsave.cpp:696: error: (-2:Unspecified error) could not find a writer for the specified extension in function 'cv::imwrite_'\n"
     ]
    }
   ],
   "source": [
    "import cv2\n",
    "\n",
    "input_folder = \"D:\\Deep_Learning\\Vegetable_Maturity_Detection\\Dataset\"\n",
    "output_folder = \"D:\\Deep_Learning\\Vegetable_Maturity_Detection\\Dataset\\dataset-resized\"\n",
    "target_width = 224\n",
    "target_height = 224\n",
    "\n",
    "# Ensure the output folder exists\n",
    "os.makedirs(output_folder, exist_ok=True)\n",
    "\n",
    "# Loop through each image file in the input folder\n",
    "for folders in os.listdir(input_folder):\n",
    "\n",
    "    ipath=f'D:\\Deep_Learning\\Vegetable_Maturity_Detection\\Dataset\\{folders}'\n",
    "    folder=os.listdir(ipath)\n",
    "    opath=f'D:\\Deep_Learning\\Vegetable_Maturity_Detection\\Dataset\\dataset-resized\\{folders}'\n",
    "    os.makedirs(opath, exist_ok=True)\n",
    "    for filename in folder:\n",
    "        if filename.endswith(\".jpg\") or filename.endswith(\".png\") or filename.endswith(\".jpeg\"):\n",
    "            input_path = os.path.join(ipath, filename)\n",
    "            output_path = os.path.join(opath, filename)\n",
    "\n",
    "            # Read the image using OpenCV\n",
    "            input_image = cv2.imread(input_path)\n",
    "\n",
    "            # Resize the image\n",
    "            resized_image = cv2.resize(input_image, (target_width, target_height))\n",
    "\n",
    "            # Save the resized image\n",
    "            cv2.imwrite(output_path, resized_image)\n",
    "\n",
    "print(\"All images resized and saved.\")\n"
   ]
  },
  {
   "cell_type": "code",
   "execution_count": null,
   "metadata": {},
   "outputs": [],
   "source": []
  }
 ],
 "metadata": {
  "kernelspec": {
   "display_name": "Tensorflow",
   "language": "python",
   "name": "python3"
  },
  "language_info": {
   "codemirror_mode": {
    "name": "ipython",
    "version": 3
   },
   "file_extension": ".py",
   "mimetype": "text/x-python",
   "name": "python",
   "nbconvert_exporter": "python",
   "pygments_lexer": "ipython3",
   "version": "3.10.9"
  },
  "orig_nbformat": 4
 },
 "nbformat": 4,
 "nbformat_minor": 2
}
